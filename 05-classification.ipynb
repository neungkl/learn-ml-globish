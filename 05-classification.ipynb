{
 "cells": [
  {
   "cell_type": "code",
   "execution_count": 1,
   "metadata": {},
   "outputs": [
    {
     "name": "stderr",
     "output_type": "stream",
     "text": [
      "Using TensorFlow backend.\n"
     ]
    }
   ],
   "source": [
    "%matplotlib inline\n",
    "\n",
    "import matplotlib.pyplot as plt\n",
    "import pandas as pd\n",
    "import keras\n",
    "import numpy as np"
   ]
  },
  {
   "cell_type": "code",
   "execution_count": 2,
   "metadata": {},
   "outputs": [],
   "source": [
    "data_size = 1000"
   ]
  },
  {
   "cell_type": "code",
   "execution_count": 3,
   "metadata": {},
   "outputs": [
    {
     "data": {
      "text/plain": [
       "array([[ 2.67139007,  3.5555282 ,  1.        ],\n",
       "       [ 0.63018722,  1.77471937,  0.        ],\n",
       "       [ 2.37036743,  0.61290964,  0.        ],\n",
       "       [ 1.68742902,  1.61183001,  0.        ],\n",
       "       [ 3.12475704,  2.89871308,  1.        ],\n",
       "       [ 2.0255142 ,  1.4427925 ,  0.        ],\n",
       "       [ 1.91343218,  3.24134497,  1.        ],\n",
       "       [ 3.04895401,  3.66658402,  1.        ],\n",
       "       [ 0.41321449,  1.37953095,  0.        ],\n",
       "       [ 2.79601393,  4.67004021,  1.        ]])"
      ]
     },
     "execution_count": 3,
     "metadata": {},
     "output_type": "execute_result"
    }
   ],
   "source": [
    "data = np.random.rand(data_size, 3) * 5\n",
    "data[:,-1] = (data[:,0] + data[:,1]) > 5\n",
    "data[:10]"
   ]
  },
  {
   "cell_type": "code",
   "execution_count": 4,
   "metadata": {},
   "outputs": [
    {
     "data": {
      "image/png": "[encoded data removed]",
      "text/plain": [
       "<matplotlib.figure.Figure at 0x7f369eed4898>"
      ]
     },
     "metadata": {},
     "output_type": "display_data"
    }
   ],
   "source": [
    "plt.scatter(data[data[:,2] == 0,0], data[data[:,2] == 0,1])\n",
    "plt.scatter(data[data[:,2] == 1,0], data[data[:,2] == 1,1], color='C1')\n",
    "plt.show()"
   ]
  },
  {
   "cell_type": "code",
   "execution_count": 5,
   "metadata": {},
   "outputs": [],
   "source": [
    "from sklearn.model_selection import train_test_split\n",
    "\n",
    "x_train, x_test, y_train, y_test = np.asarray(train_test_split(data[:,0:2], data[:,2], test_size=0.3))"
   ]
  },
  {
   "cell_type": "code",
   "execution_count": 6,
   "metadata": {},
   "outputs": [
    {
     "name": "stdout",
     "output_type": "stream",
     "text": [
      "_________________________________________________________________\n",
      "Layer (type)                 Output Shape              Param #   \n",
      "=================================================================\n",
      "dense_1 (Dense)              (None, 1)                 3         \n",
      "=================================================================\n",
      "Total params: 3\n",
      "Trainable params: 3\n",
      "Non-trainable params: 0\n",
      "_________________________________________________________________\n"
     ]
    }
   ],
   "source": [
    "from keras.models import Sequential\n",
    "from keras.layers import Dense\n",
    "from keras.optimizers import Adam\n",
    "\n",
    "model = Sequential()\n",
    "model.add(Dense(1, input_shape=(2,), kernel_initializer='uniform', activation='sigmoid'))\n",
    "optimizer = Adam(lr=0.1)\n",
    "model.compile(loss='binary_crossentropy', optimizer=optimizer)\n",
    "\n",
    "model.summary()"
   ]
  },
  {
   "cell_type": "code",
   "execution_count": 7,
   "metadata": {},
   "outputs": [
    {
     "name": "stdout",
     "output_type": "stream",
     "text": [
      "Epoch 1/10\n",
      "700/700 [==============================] - 1s 2ms/step - loss: 0.3723\n",
      "Epoch 2/10\n",
      "700/700 [==============================] - 1s 1ms/step - loss: 0.2089\n",
      "Epoch 3/10\n",
      "700/700 [==============================] - 1s 2ms/step - loss: 0.1593\n",
      "Epoch 4/10\n",
      "700/700 [==============================] - 1s 847us/step - loss: 0.1465\n",
      "Epoch 5/10\n",
      "700/700 [==============================] - 1s 1ms/step - loss: 0.1351\n",
      "Epoch 6/10\n",
      "700/700 [==============================] - 1s 1ms/step - loss: 0.1194\n",
      "Epoch 7/10\n",
      "700/700 [==============================] - 1s 1ms/step - loss: 0.1125\n",
      "Epoch 8/10\n",
      "700/700 [==============================] - 1s 1ms/step - loss: 0.1013\n",
      "Epoch 9/10\n",
      "700/700 [==============================] - 1s 890us/step - loss: 0.1036\n",
      "Epoch 10/10\n",
      "700/700 [==============================] - 1s 819us/step - loss: 0.1030\n"
     ]
    },
    {
     "data": {
      "text/plain": [
       "<keras.callbacks.History at 0x7f369eebba90>"
      ]
     },
     "execution_count": 7,
     "metadata": {},
     "output_type": "execute_result"
    }
   ],
   "source": [
    "model.fit(x_train, y_train, epochs=10, batch_size=2, verbose=1)"
   ]
  },
  {
   "cell_type": "code",
   "execution_count": 8,
   "metadata": {},
   "outputs": [
    {
     "name": "stdout",
     "output_type": "stream",
     "text": [
      "300/300 [==============================] - 0s 989us/step\n",
      "0.0821224817397\n"
     ]
    }
   ],
   "source": [
    "print(model.evaluate(x_test, y_test, batch_size=1))"
   ]
  },
  {
   "cell_type": "code",
   "execution_count": 9,
   "metadata": {},
   "outputs": [
    {
     "data": {
      "image/png": "[encoded data removed]",
      "text/plain": [
       "<matplotlib.figure.Figure at 0x7f369ce68240>"
      ]
     },
     "metadata": {},
     "output_type": "display_data"
    }
   ],
   "source": [
    "plt.figure(figsize=(7,7))\n",
    "y_predict = model.predict(x_test).reshape(-1)\n",
    "y_predict = y_predict < 0.5\n",
    "plt.scatter(x_test[y_predict, 0], x_test[y_predict, 1])\n",
    "plt.scatter(x_test[y_predict == False, 0], x_test[y_predict == False, 1], color='C1')\n",
    "plt.show()"
   ]
  },
  {
   "cell_type": "code",
   "execution_count": 10,
   "metadata": {},
   "outputs": [
    {
     "name": "stdout",
     "output_type": "stream",
     "text": [
      "[array([[ 3.95988703],\n",
      "       [ 3.80109286]], dtype=float32), array([-19.83564949], dtype=float32)]\n"
     ]
    }
   ],
   "source": [
    "for layer in model.layers:\n",
    "    print(layer.get_weights())"
   ]
  },
  {
   "cell_type": "code",
   "execution_count": 11,
   "metadata": {},
   "outputs": [
    {
     "name": "stdout",
     "output_type": "stream",
     "text": [
      "[ 0.93  0.15  0.05  1.    0.54  0.    0.1   0.96  0.89  0.49  0.    1.    1.\n",
      "  0.1   0.    0.03  1.    0.78  0.92  0.01  0.    0.    0.    0.01  0.    0.9\n",
      "  0.99  0.    0.04  0.32  1.    0.07  0.    1.    0.    0.    0.01  0.08\n",
      "  0.01  1.    0.    1.    1.    0.93  0.87  1.    0.03  0.13  0.    0.97\n",
      "  1.    0.01  0.71  0.    0.    1.    0.99  1.    0.    0.99  1.    1.\n",
      "  0.94  1.    0.49  0.    0.05  0.01  0.01  0.61  0.98  0.    0.    1.\n",
      "  0.91  0.02  1.    0.65  0.99  0.    0.48  0.    1.    0.    0.01  0.    0.\n",
      "  0.12  0.    0.94  1.    0.    0.87  0.91  0.99  0.17  0.5   1.    0.01\n",
      "  0.99  0.28  0.    1.    0.92  0.98  0.82  1.    0.12  1.    0.99  1.    1.\n",
      "  0.    1.    1.    0.    0.    1.    0.    1.    0.95  0.91  0.48  0.02\n",
      "  0.9   0.74  0.91  0.04  0.01  0.    0.01  0.01  1.    1.    0.    0.05\n",
      "  0.37  0.    0.    1.    1.    0.99  1.    1.    1.    1.    0.    0.86\n",
      "  0.01  1.    0.17  1.    0.    0.33  0.02  1.    0.23  1.    0.01  0.01\n",
      "  0.    0.    0.45  0.    0.01  1.    0.98  0.    0.16  0.68  0.83  0.\n",
      "  0.95  0.65  0.    0.95  0.03  0.02  0.    1.    0.02  0.02  0.95  0.07\n",
      "  1.    0.49  0.02  0.8   0.    1.    0.    0.    1.    1.    0.    0.8\n",
      "  0.61  0.41  0.    0.26  0.    0.21  0.19  0.95  1.    0.01  1.    0.84\n",
      "  0.    0.    0.99  1.    1.    0.    1.    1.    0.03  0.75  0.95  0.68\n",
      "  0.4   0.    0.61  0.    0.    0.13  0.    0.    0.    1.    0.81  0.91\n",
      "  0.03  1.    1.    0.22  0.    0.42  0.93  0.04  0.16  0.48  0.    0.27\n",
      "  0.97  0.    0.95  0.95  1.    0.    0.    0.94  0.99  0.    1.    0.    0.\n",
      "  1.    1.    0.    0.07  0.    0.82  0.06  0.95  1.    0.99  0.05  0.86\n",
      "  0.    0.98  1.    0.24  0.99  0.    0.92  0.15  0.99  0.    1.    0.07\n",
      "  0.    0.99  0.    0.11  1.    0.    1.    0.86  0.86  0.    0.99  0.\n",
      "  0.56  1.    0.    1.    0.    0.91  0.09]\n"
     ]
    }
   ],
   "source": [
    "y_predict = model.predict(x_test).reshape(-1)\n",
    "np.set_printoptions(precision=2, suppress=True)\n",
    "print(y_predict)"
   ]
  },
  {
   "cell_type": "code",
   "execution_count": 12,
   "metadata": {},
   "outputs": [],
   "source": [
    "import math\n",
    "def sigmoid(x):\n",
    "    return 1 / (1 + math.exp(-x))"
   ]
  },
  {
   "cell_type": "code",
   "execution_count": 13,
   "metadata": {},
   "outputs": [
    {
     "name": "stdout",
     "output_type": "stream",
     "text": [
      "0.51\n"
     ]
    }
   ],
   "source": [
    "print(\"%0.2f\" % sigmoid(2.5 * 4.14 + 2.5 * 3.98 + -20.27))"
   ]
  },
  {
   "cell_type": "code",
   "execution_count": null,
   "metadata": {},
   "outputs": [],
   "source": []
  }
 ],
 "metadata": {
  "kernelspec": {
   "display_name": "Python 3",
   "language": "python",
   "name": "python3"
  },
  "language_info": {
   "codemirror_mode": {
    "name": "ipython",
    "version": 3
   },
   "file_extension": ".py",
   "mimetype": "text/x-python",
   "name": "python",
   "nbconvert_exporter": "python",
   "pygments_lexer": "ipython3",
   "version": "3.5.2"
  }
 },
 "nbformat": 4,
 "nbformat_minor": 2
}
